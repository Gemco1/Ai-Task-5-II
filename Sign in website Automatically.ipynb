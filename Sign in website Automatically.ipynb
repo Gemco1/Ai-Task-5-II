{
 "cells": [
  {
   "cell_type": "code",
   "execution_count": 2,
   "id": "447ea5af",
   "metadata": {
    "ExecuteTime": {
     "end_time": "2021-10-04T21:49:41.733206Z",
     "start_time": "2021-10-04T21:49:37.738218Z"
    }
   },
   "outputs": [],
   "source": [
    "from selenium import webdriver\n",
    "from selenium.webdriver.common.keys import Keys\n",
    "URL = \"https://github.com/login\"\n",
    "username = \"Name\"\n",
    "password = \"Password\"\n",
    "driver = webdriver.Chrome(\"C:/Users/Omar/Downloads/chromedriver.exe\")\n",
    "driver.get(URL)\n",
    "driver.find_element_by_id(\"login_field\").send_keys(username)\n",
    "driver.find_element_by_id(\"password\").send_keys(password)\n",
    "driver.find_element_by_css_selector(\"input[type=\\\"submit\\\" i]\").click()"
   ]
  }
 ],
 "metadata": {
  "kernelspec": {
   "display_name": "Python 3",
   "language": "python",
   "name": "python3"
  },
  "language_info": {
   "codemirror_mode": {
    "name": "ipython",
    "version": 3
   },
   "file_extension": ".py",
   "mimetype": "text/x-python",
   "name": "python",
   "nbconvert_exporter": "python",
   "pygments_lexer": "ipython3",
   "version": "3.8.8"
  },
  "varInspector": {
   "cols": {
    "lenName": 16,
    "lenType": 16,
    "lenVar": 40
   },
   "kernels_config": {
    "python": {
     "delete_cmd_postfix": "",
     "delete_cmd_prefix": "del ",
     "library": "var_list.py",
     "varRefreshCmd": "print(var_dic_list())"
    },
    "r": {
     "delete_cmd_postfix": ") ",
     "delete_cmd_prefix": "rm(",
     "library": "var_list.r",
     "varRefreshCmd": "cat(var_dic_list()) "
    }
   },
   "types_to_exclude": [
    "module",
    "function",
    "builtin_function_or_method",
    "instance",
    "_Feature"
   ],
   "window_display": false
  }
 },
 "nbformat": 4,
 "nbformat_minor": 5
}
